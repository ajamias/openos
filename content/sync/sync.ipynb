{
 "cells": [
  {
   "cell_type": "markdown",
   "id": "19b2e306-8ddd-410e-9744-b264b713cd01",
   "metadata": {},
   "source": [
    "```{warning}\n",
    "This portion of the book is under construction, not ready to be read\n",
    "```"
   ]
  },
  {
   "cell_type": "markdown",
   "id": "333d054c-7921-4f34-a537-9d7228007335",
   "metadata": {
    "tags": []
   },
   "source": [
    "(cont:conc:intro)=\n",
    "# Introduction to Concurrency, Synchronization and Deadlock\n",
    "\n",
    "Earlier, we saw how computers can virtualize their CPUs through the use of threads. Virtualizing the CPU makes it seem like there are multiple CPUs running at the same time to the user. However, when a process requires threads to be ran in a certain order, we run into problems such as race conditions, deadlocks, and security. One of the key responsibilities of an operating system is that of synchronization---handling concurrent events in a reasonable way, and providing mechanisms for user applications to do so as well. Some applications will need to utilize all hardware resources to maximize efficiency, which is why interprocess communication is needed. You will learn about [shared memory](cont:sync:sharedmemory) and how that becomes a [problem](cont:sync:criticalsection) without concurrency. To solve this concurrency problem, you will learn about different types of [locks](cont:sync:locks:interrupt_soln), how they work, how they are implemented, and how they can cause [concurrency bugs](cont:sync:concurrency_bugs)."
   ]
  },
  {
   "cell_type": "markdown",
   "id": "61b345fb-e652-46df-91fb-6a6caeef4b45",
   "metadata": {},
   "source": [
    "1. {ref}`interprocess communication and need to share <cont:sync:sharing>`\n",
    "   - system calls to enable: shared memory region, shmat, (reference back pipes)\n",
    "   - short statement we have parallel hardware, lots of cores... \n",
    "   - leads to threads from the perspective of we want work on same data...\n",
    "1. locking\n",
    "1. deadlock\n",
    "1. challenge modern hardware\n",
    "   - NUMA, caches... \n",
    "   - sequential consistency, processor consistency... C++11 memory model (possible part 4)\n",
    "   - scalability, lock granularity\n",
    "1. locking in linux"
   ]
  },
  {
   "cell_type": "code",
   "execution_count": null,
   "id": "a6b8546c-9cda-4693-8353-eb81db076b8e",
   "metadata": {},
   "outputs": [],
   "source": []
  }
 ],
 "metadata": {
  "kernelspec": {
   "display_name": "Python 3 (ipykernel)",
   "language": "python",
   "name": "python3"
  },
  "language_info": {
   "codemirror_mode": {
    "name": "ipython",
    "version": 3
   },
   "file_extension": ".py",
   "mimetype": "text/x-python",
   "name": "python",
   "nbconvert_exporter": "python",
   "pygments_lexer": "ipython3",
   "version": "3.10.9"
  }
 },
 "nbformat": 4,
 "nbformat_minor": 5
}
