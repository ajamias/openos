{
 "cells": [
  {
   "cell_type": "code",
   "execution_count": null,
   "metadata": {},
   "outputs": [],
   "source": [
    "from pdf2image import convert_from_path\n",
    "from IPython.display import Image, display, Markdown\n",
    "import os\n",
    "import re\n",
    "import nbformat as nbf\n",
    "from nbformat.v4 import new_markdown_cell"
   ]
  },
  {
   "cell_type": "code",
   "execution_count": null,
   "metadata": {},
   "outputs": [],
   "source": [
    "# can automate this, but for now we can do this manually\n",
    "lecture_number = 1"
   ]
  },
  {
   "cell_type": "code",
   "execution_count": null,
   "metadata": {},
   "outputs": [],
   "source": [
    "pdf_path = f\"/Users/austin/test_dir/lecture{lecture_number}.pdf\"\n",
    "images = convert_from_path(pdf_path)\n",
    "\n",
    "os.mkdir(f\"../images/slides/lecture{lecture_number}\")\n",
    "\n",
    "for idx, image in enumerate(images):\n",
    "    image.save(f\"../images/slides/lecture{lecture_number}/lecture{lecture_number}_slide_{idx}.png\")"
   ]
  },
  {
   "cell_type": "code",
   "execution_count": null,
   "metadata": {},
   "outputs": [],
   "source": [
    "# Define the path to your image folder\n",
    "image_folder = f\"../images/slides/lecture{lecture_number}\"\n",
    "\n",
    "# List image files in the folder and sort them in ascending order\n",
    "image_files = [f for f in os.listdir(image_folder) if f.startswith(f\"lecture{lecture_number}_slide_\")]\n",
    "\n",
    "# Custom sorting function to sort filenames by the numeric part\n",
    "def sort_key(filename):\n",
    "    # Extract the numeric part using regular expressions\n",
    "    match = re.search(r'slide_(\\d+)\\.png', filename)\n",
    "    if match:\n",
    "        return int(match.group(1))\n",
    "    return filename\n",
    "\n",
    "image_files.sort(key=sort_key)\n",
    "\n",
    "# Create a new notebook\n",
    "nb = nbf.v4.new_notebook()\n",
    "\n",
    "# Loop through each image file\n",
    "for image_file in image_files:\n",
    "    # Create a markdown cell with an image tag\n",
    "    markdown_source = f\"![{image_file}]({os.path.join(image_folder, image_file)})\"\n",
    "    markdown_cell = new_markdown_cell(markdown_source)\n",
    "    \n",
    "    # Add the \"slide\" attribute to the cell metadata\n",
    "    markdown_cell.metadata['slideshow'] = {'slide_type': 'slide'}\n",
    "    \n",
    "    # Add the markdown cell to the notebook\n",
    "    nb.cells.append(markdown_cell)\n",
    "\n",
    "# Specify the output IPython Notebook filename\n",
    "output_file = f\"../slides/lecture{lecture_number}.ipynb\"\n",
    "\n",
    "# Save the notebook to a file\n",
    "with open(output_file, \"w\") as f:\n",
    "    nbf.write(nb, f)\n",
    "\n",
    "print(f\"Notebook '{output_file}' created successfully.\")\n"
   ]
  }
 ],
 "metadata": {
  "kernelspec": {
   "display_name": "Python 3.11.3 64-bit",
   "language": "python",
   "name": "python3"
  },
  "language_info": {
   "codemirror_mode": {
    "name": "ipython",
    "version": 3
   },
   "file_extension": ".py",
   "mimetype": "text/x-python",
   "name": "python",
   "nbconvert_exporter": "python",
   "pygments_lexer": "ipython3",
   "version": "3.11.3"
  },
  "orig_nbformat": 4,
  "vscode": {
   "interpreter": {
    "hash": "aee8b7b246df8f9039afb4144a1f6fd8d2ca17a180786b69acc140d282b71a49"
   }
  }
 },
 "nbformat": 4,
 "nbformat_minor": 2
}
