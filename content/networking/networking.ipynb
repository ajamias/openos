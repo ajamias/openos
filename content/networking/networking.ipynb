{
 "cells": [
  {
   "cell_type": "markdown",
   "id": "9b1cd937-f5b2-4573-b56c-5acca8fedcbc",
   "metadata": {},
   "source": [
    "# Networking\n",
    "\n",
    "The definition of networking in a non-computer context is defined as the action or process of interacting with others to exchange information. This is very similar to the computer context, just replace the people with computers. Networking is a very important area in computers and operating systems because of the ability to communicate to other computers and people across the world at near light speed.\n",
    "\n",
    "Remember the core idea of Unix is that everything is a file, well that applies to networking too. If you wanted to send some data to a different computer, you can think of that computer as a file to write data to. It's not that simple however. There are many additional steps, machines, and organizations that come into play when you want to, for example, watch cat videos from a YouTube server.\n",
    "\n",
    "In this section, we will briefly go over the following:\n",
    "- \n",
    "- \n",
    "- "
   ]
  },
  {
   "cell_type": "markdown",
   "id": "3aca23f8-5429-4706-b51b-90ceda53c454",
   "metadata": {},
   "source": [
    "## Networking Hardware\n",
    "\n",
    "Before wireless phone calls and WiFi, there was dial-up internet. Two graduates at Duke University created the early versions of dial-up internet by realizing the usability of the plain old telephone service (POTS) for data transfer with computers. Essentially, a computer would use a modem (modulator/demodulator) to modulate digital data into signal frequencies to travel across the telephone lines to a destination computer that would demodulate the signals into digital data. [This sound](https://www.youtube.com/watch?v=gsNaR6FRuO0) is actually the modulated signals of the exchange of information between the two modems, specifically metadata. The max speed of dial-up internet was about 56 KB/s, so if you wanted to load a song with a size of 5 MB, it would take around 89 seconds back then.\n",
    "\n",
    "Thankfully, people came up with broadband internet which was much faster and more convenient than dial-up. "
   ]
  },
  {
   "cell_type": "markdown",
   "id": "f319a609-6bdf-4b10-afd8-f1fd93613d96",
   "metadata": {},
   "source": [
    "## Communication\n",
    "\n",
    "The minimum amount of computers it takes to form a network is 2. \n",
    "\n",
    "### TCP/IP\n",
    "\n",
    "TCP stands for Transmission Control Protocol, and is the standardized way of transferring data across the internet in chunks called data packets. \n",
    "\n",
    "### Client Server Model\n",
    "\n",
    "In the client-server model, a client requests resources from a server. The client is described as the computer (host) that a person is requesting resources from. That data can be in the form of web pages, software, etc. The server is the computer that holds resources to distribute to clients. Most computers are both servers and clients as most computers both send and receive resources to other computers.\n",
    "\n",
    "```{note}\n",
    "This is all very abstracted from the fine details that actually happen\n",
    "```"
   ]
  },
  {
   "cell_type": "markdown",
   "id": "b09dbadf-66f5-4892-bbbf-ccf579edf475",
   "metadata": {},
   "source": []
  }
 ],
 "metadata": {
  "kernelspec": {
   "display_name": "Python 3 (ipykernel)",
   "language": "python",
   "name": "python3"
  },
  "language_info": {
   "codemirror_mode": {
    "name": "ipython",
    "version": 3
   },
   "file_extension": ".py",
   "mimetype": "text/x-python",
   "name": "python",
   "nbconvert_exporter": "python",
   "pygments_lexer": "ipython3",
   "version": "3.10.9"
  }
 },
 "nbformat": 4,
 "nbformat_minor": 5
}
