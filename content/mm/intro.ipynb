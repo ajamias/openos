{
 "cells": [
  {
   "cell_type": "markdown",
   "id": "57a9bbad-0e5b-4dfb-822d-a6bda530f3b9",
   "metadata": {},
   "source": [
    "```{warning}\n",
    "This portion of the book is under construction, not ready to be read\n",
    "```"
   ]
  },
  {
   "cell_type": "markdown",
   "id": "46eaf16b-962f-47c8-8fc2-f343d60b44b3",
   "metadata": {
    "tags": [
     "remove-input",
     "remove-output"
    ]
   },
   "source": [
    "```{toggle}\n",
    "Outline\n",
    "\n",
    "- intro OS-MM-L01 2-6\n",
    "    - Overview - Why do we need a memory manager\n",
    "    - overview of all the chapters\n",
    "    \n",
    "**Combine physmem and virt-seg into \"Towards paged virtual memory\"**\n",
    "**Reduce the materials for both these sections, get through segmentation faster, and start on paged virtual memory in L01**\n",
    "\n",
    "- physmem  OS-MM-L01 7-14\n",
    "    - how program laid out - peter - address space and program loading\n",
    "    - relocation\n",
    "    - compaction\n",
    "    - challenges \n",
    "\n",
    "- virt-seg  OS-MM-L01 15-64\n",
    "    - picture of MMU - sends physical address over bus\n",
    "    - segmentation hardware - translation\n",
    "    - what is virtual memory\n",
    "    - physical mem management\n",
    "    - swapping\n",
    "    - compaction \n",
    "    - keeping track of free memory\n",
    "    - challenges\n",
    "    \n",
    "**add section at the beginning on interface virtual memory try to get through this in L01**\n",
    "\n",
    "- virt-paging OS-MM-L02 0-21\n",
    "    - MMU with some mapping hardware - same picture, but now table\n",
    "    - page frames and virtual pages\n",
    "           - keeping track of which memory used\n",
    "    - mapping & notion of faults\n",
    "    - page table entry\n",
    "    - contrast to segmentation, paging of blocks... rather than swapping entire program\n",
    "    - what we use for:\n",
    "           - anonymous - program, \n",
    "           - file backed - mention file caching\n",
    "           - page fault\n",
    "    - concluding remarks\n",
    "           - once you have multi-level, massive address space. \n",
    "           - until now, described HW, and the benefits of having paged virtual memory, next chapters describe some of the key policies, mechanisms \n",
    "\n",
    "**L03 is very short, we should start on L04 in L03**\n",
    "- page table organizations: OS-MM-L02 21-end + L03 0-18\n",
    "\t   - single level.\n",
    "\t   - multi-level page table. \n",
    "           - inverted\n",
    "    - TLB\n",
    "           - global, local, tagged TLB\n",
    "           - software managed TLB\n",
    "\n",
    "**we are covering way too much in L04**\n",
    "\n",
    "- reclamation OS-MM-L04 1-37\n",
    "    - describe how we got here ... we run out of memory, ... using \n",
    "    - describe all the policies\n",
    "    - FIFO\n",
    "    - CLOCK\n",
    "    - belady anomaly \n",
    "    - ... all from peter\n",
    "\n",
    "\n",
    "- page-sizes OS-MM-L04 38-44\n",
    "    - why big, why small, supporting multiple\n",
    "\n",
    "\n",
    "- misc OS-MM-L04 46-47\n",
    "    - sharing-memory\n",
    "        - sharing page frames\n",
    "        - sharing page table pages\n",
    "    - pinning memory\n",
    "    - anonymous memory\n",
    "    - file backed memory\n",
    "    \n",
    "- buffer-cache OS-MM-L04 52- 62\n",
    "    - most memory used. \n",
    "    \n",
    "- MM dynamics  OS-MM-L04 63- 68 \n",
    "    - anonymous - zero filled first access.. \n",
    "    - file backed \n",
    "    - COW\n",
    "\n",
    "- realworld OS-MM-L05 \n",
    "    - Linux implementation\n",
    "\n",
    "- concl\n",
    "    - Review of MM\n",
    "```"
   ]
  },
  {
   "cell_type": "markdown",
   "id": "988171dd-7ec7-4a8e-95f2-d86b933c4ca7",
   "metadata": {
    "user_expressions": []
   },
   "source": [
    "(cont:mm:intro)=\n",
    "# Introduction\n",
    "\n",
    "In paraphrasing [Parkinson's Law](https://en.wikipedia.org/wiki/Parkinson%27s_law), we observe that software programs have a tendency to expand to consume the available memory, and it's worth noting that modern home computers boast memory capacities that dwarf those from Larry's earlier days. As we explored in the introduction, memory, though swift, remains limited and costly when compared to storage. Moreover, it exhibits a volatile nature, with all alterations vanishing upon a system reboot. This brings us to the pivotal role of memory management within the operating system, which encompasses the allocation, release, and vigilant monitoring of memory usage. Memory management extends its purview to orchestrate the virtual memory for each running process, along with overseeing the allocation of physical memory across the entire system, thus ensuring its availability to various processes as dictated by their specific memory requirements.\n",
    "\n",
    "Today, most machines support paged virtual memory, but before we get into that, we need to explore how computers got where it is today. The first section describes the problems that early computers had using [physical memory](cont:mm:beforepaging). To address some of its problems, [segmented virtual memory](cont:mm:virt-seg), the first version of virtual memory, was created. Although segmented virtual memory solved some problems caused by physical memory, we tried to make virtual memory more efficient by developing [paged virtual memory](cont:mm:virt-paging), which allowed non-contiguous memory and memory capacity larger than what physical memory can contain. This is done with [page tables](page-tables), which is a data structure that facilitate fast memory access with the cache using [reclamation algorithms](cont:mm:reclamation).\n",
    "\n"
   ]
  },
  {
   "cell_type": "code",
   "execution_count": null,
   "id": "1a046e6d-7c52-433b-a8e2-39f3e17baa7a",
   "metadata": {},
   "outputs": [],
   "source": []
  }
 ],
 "metadata": {
  "kernelspec": {
   "display_name": "Python 3 (ipykernel)",
   "language": "python",
   "name": "python3"
  },
  "language_info": {
   "codemirror_mode": {
    "name": "ipython",
    "version": 3
   },
   "file_extension": ".py",
   "mimetype": "text/x-python",
   "name": "python",
   "nbconvert_exporter": "python",
   "pygments_lexer": "ipython3",
   "version": "3.10.9"
  }
 },
 "nbformat": 4,
 "nbformat_minor": 5
}
