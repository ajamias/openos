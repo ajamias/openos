{
 "cells": [
  {
   "cell_type": "markdown",
   "id": "ba5252af",
   "metadata": {
    "slideshow": {
     "slide_type": "slide"
    }
   },
   "source": [
    "![lecture1_slide_0.png](../images/slides/lecture1/lecture1_slide_0.png)"
   ]
  },
  {
   "cell_type": "markdown",
   "id": "03e94711",
   "metadata": {
    "slideshow": {
     "slide_type": "slide"
    }
   },
   "source": [
    "![lecture1_slide_1.png](../images/slides/lecture1/lecture1_slide_1.png)"
   ]
  },
  {
   "cell_type": "markdown",
   "id": "0979eaff",
   "metadata": {
    "slideshow": {
     "slide_type": "slide"
    }
   },
   "source": [
    "![lecture1_slide_2.png](../images/slides/lecture1/lecture1_slide_2.png)"
   ]
  },
  {
   "cell_type": "markdown",
   "id": "217d9ab3",
   "metadata": {
    "slideshow": {
     "slide_type": "slide"
    }
   },
   "source": [
    "![lecture1_slide_3.png](../images/slides/lecture1/lecture1_slide_3.png)"
   ]
  },
  {
   "cell_type": "markdown",
   "id": "4c50d291",
   "metadata": {
    "slideshow": {
     "slide_type": "slide"
    }
   },
   "source": [
    "![lecture1_slide_4.png](../images/slides/lecture1/lecture1_slide_4.png)"
   ]
  },
  {
   "cell_type": "markdown",
   "id": "ce7b248e",
   "metadata": {
    "slideshow": {
     "slide_type": "slide"
    }
   },
   "source": [
    "![lecture1_slide_5.png](../images/slides/lecture1/lecture1_slide_5.png)"
   ]
  },
  {
   "cell_type": "markdown",
   "id": "4ab13b4b",
   "metadata": {
    "slideshow": {
     "slide_type": "slide"
    }
   },
   "source": [
    "![lecture1_slide_6.png](../images/slides/lecture1/lecture1_slide_6.png)"
   ]
  },
  {
   "cell_type": "markdown",
   "id": "bfae6bb6",
   "metadata": {
    "slideshow": {
     "slide_type": "slide"
    }
   },
   "source": [
    "![lecture1_slide_7.png](../images/slides/lecture1/lecture1_slide_7.png)"
   ]
  },
  {
   "cell_type": "markdown",
   "id": "f3ce6dd2",
   "metadata": {
    "slideshow": {
     "slide_type": "slide"
    }
   },
   "source": [
    "![lecture1_slide_8.png](../images/slides/lecture1/lecture1_slide_8.png)"
   ]
  },
  {
   "cell_type": "markdown",
   "id": "9cf46dde",
   "metadata": {
    "slideshow": {
     "slide_type": "slide"
    }
   },
   "source": [
    "![lecture1_slide_9.png](../images/slides/lecture1/lecture1_slide_9.png)"
   ]
  },
  {
   "cell_type": "markdown",
   "id": "87a656dd",
   "metadata": {
    "slideshow": {
     "slide_type": "slide"
    }
   },
   "source": [
    "![lecture1_slide_10.png](../images/slides/lecture1/lecture1_slide_10.png)"
   ]
  },
  {
   "cell_type": "markdown",
   "id": "0a6f9916",
   "metadata": {
    "slideshow": {
     "slide_type": "slide"
    }
   },
   "source": [
    "![lecture1_slide_11.png](../images/slides/lecture1/lecture1_slide_11.png)"
   ]
  },
  {
   "cell_type": "markdown",
   "id": "c2f7dc2f",
   "metadata": {
    "slideshow": {
     "slide_type": "slide"
    }
   },
   "source": [
    "![lecture1_slide_12.png](../images/slides/lecture1/lecture1_slide_12.png)"
   ]
  },
  {
   "cell_type": "markdown",
   "id": "c6666236",
   "metadata": {
    "slideshow": {
     "slide_type": "slide"
    }
   },
   "source": [
    "![lecture1_slide_13.png](../images/slides/lecture1/lecture1_slide_13.png)"
   ]
  },
  {
   "cell_type": "markdown",
   "id": "f11374ed",
   "metadata": {
    "slideshow": {
     "slide_type": "slide"
    }
   },
   "source": [
    "![lecture1_slide_14.png](../images/slides/lecture1/lecture1_slide_14.png)"
   ]
  },
  {
   "cell_type": "markdown",
   "id": "48b387e7",
   "metadata": {
    "slideshow": {
     "slide_type": "slide"
    }
   },
   "source": [
    "![lecture1_slide_15.png](../images/slides/lecture1/lecture1_slide_15.png)"
   ]
  },
  {
   "cell_type": "markdown",
   "id": "7048008b",
   "metadata": {
    "slideshow": {
     "slide_type": "slide"
    }
   },
   "source": [
    "![lecture1_slide_16.png](../images/slides/lecture1/lecture1_slide_16.png)"
   ]
  },
  {
   "cell_type": "markdown",
   "id": "1c37a748",
   "metadata": {
    "slideshow": {
     "slide_type": "slide"
    }
   },
   "source": [
    "![lecture1_slide_17.png](../images/slides/lecture1/lecture1_slide_17.png)"
   ]
  },
  {
   "cell_type": "markdown",
   "id": "26f1bb15",
   "metadata": {
    "slideshow": {
     "slide_type": "slide"
    }
   },
   "source": [
    "![lecture1_slide_18.png](../images/slides/lecture1/lecture1_slide_18.png)"
   ]
  },
  {
   "cell_type": "markdown",
   "id": "be145d56",
   "metadata": {
    "slideshow": {
     "slide_type": "slide"
    }
   },
   "source": [
    "![lecture1_slide_19.png](../images/slides/lecture1/lecture1_slide_19.png)"
   ]
  },
  {
   "cell_type": "markdown",
   "id": "226d4a9a",
   "metadata": {
    "slideshow": {
     "slide_type": "slide"
    }
   },
   "source": [
    "![lecture1_slide_20.png](../images/slides/lecture1/lecture1_slide_20.png)"
   ]
  },
  {
   "cell_type": "markdown",
   "id": "0a5efad1",
   "metadata": {
    "slideshow": {
     "slide_type": "slide"
    }
   },
   "source": [
    "![lecture1_slide_21.png](../images/slides/lecture1/lecture1_slide_21.png)"
   ]
  },
  {
   "cell_type": "markdown",
   "id": "cccd4aa9",
   "metadata": {
    "slideshow": {
     "slide_type": "slide"
    }
   },
   "source": [
    "![lecture1_slide_22.png](../images/slides/lecture1/lecture1_slide_22.png)"
   ]
  },
  {
   "cell_type": "markdown",
   "id": "83b52420",
   "metadata": {
    "slideshow": {
     "slide_type": "slide"
    }
   },
   "source": [
    "![lecture1_slide_23.png](../images/slides/lecture1/lecture1_slide_23.png)"
   ]
  },
  {
   "cell_type": "markdown",
   "id": "135f1a4e",
   "metadata": {
    "slideshow": {
     "slide_type": "slide"
    }
   },
   "source": [
    "![lecture1_slide_24.png](../images/slides/lecture1/lecture1_slide_24.png)"
   ]
  },
  {
   "cell_type": "markdown",
   "id": "061cae4c",
   "metadata": {
    "slideshow": {
     "slide_type": "slide"
    }
   },
   "source": [
    "![lecture1_slide_25.png](../images/slides/lecture1/lecture1_slide_25.png)"
   ]
  },
  {
   "cell_type": "markdown",
   "id": "91996c7f",
   "metadata": {
    "slideshow": {
     "slide_type": "slide"
    }
   },
   "source": [
    "![lecture1_slide_26.png](../images/slides/lecture1/lecture1_slide_26.png)"
   ]
  },
  {
   "cell_type": "markdown",
   "id": "4465fcb9",
   "metadata": {
    "slideshow": {
     "slide_type": "slide"
    }
   },
   "source": [
    "![lecture1_slide_27.png](../images/slides/lecture1/lecture1_slide_27.png)"
   ]
  },
  {
   "cell_type": "markdown",
   "id": "3678a791",
   "metadata": {
    "slideshow": {
     "slide_type": "slide"
    }
   },
   "source": [
    "![lecture1_slide_28.png](../images/slides/lecture1/lecture1_slide_28.png)"
   ]
  },
  {
   "cell_type": "markdown",
   "id": "de3eec38",
   "metadata": {
    "slideshow": {
     "slide_type": "slide"
    }
   },
   "source": [
    "![lecture1_slide_29.png](../images/slides/lecture1/lecture1_slide_29.png)"
   ]
  },
  {
   "cell_type": "markdown",
   "id": "9c507e3b",
   "metadata": {
    "slideshow": {
     "slide_type": "slide"
    }
   },
   "source": [
    "![lecture1_slide_30.png](../images/slides/lecture1/lecture1_slide_30.png)"
   ]
  },
  {
   "cell_type": "markdown",
   "id": "5e4a2c6b",
   "metadata": {
    "slideshow": {
     "slide_type": "slide"
    }
   },
   "source": [
    "![lecture1_slide_31.png](../images/slides/lecture1/lecture1_slide_31.png)"
   ]
  },
  {
   "cell_type": "markdown",
   "id": "78e3452d",
   "metadata": {
    "slideshow": {
     "slide_type": "slide"
    }
   },
   "source": [
    "![lecture1_slide_32.png](../images/slides/lecture1/lecture1_slide_32.png)"
   ]
  },
  {
   "cell_type": "markdown",
   "id": "64956d6c",
   "metadata": {
    "slideshow": {
     "slide_type": "slide"
    }
   },
   "source": [
    "![lecture1_slide_33.png](../images/slides/lecture1/lecture1_slide_33.png)"
   ]
  },
  {
   "cell_type": "markdown",
   "id": "d584f443",
   "metadata": {
    "slideshow": {
     "slide_type": "slide"
    }
   },
   "source": [
    "![lecture1_slide_34.png](../images/slides/lecture1/lecture1_slide_34.png)"
   ]
  }
 ],
 "metadata": {
  "celltoolbar": "Slideshow",
  "kernelspec": {
   "display_name": "Python 3 (ipykernel)",
   "language": "python",
   "name": "python3"
  },
  "language_info": {
   "codemirror_mode": {
    "name": "ipython",
    "version": 3
   },
   "file_extension": ".py",
   "mimetype": "text/x-python",
   "name": "python",
   "nbconvert_exporter": "python",
   "pygments_lexer": "ipython3",
   "version": "3.8.16"
  }
 },
 "nbformat": 4,
 "nbformat_minor": 5
}
