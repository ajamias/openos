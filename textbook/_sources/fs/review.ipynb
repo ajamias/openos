{
 "cells": [
  {
   "cell_type": "markdown",
   "metadata": {},
   "source": [
    "# Review"
   ]
  },
  {
   "cell_type": "markdown",
   "metadata": {},
   "source": [
    "## Common File System System Calls\n",
    "\n",
    "```{list-table}\n",
    ":header-rows: 1\n",
    "\n",
    "* - Function\n",
    "  - Reference\n",
    "  - Brief Description\n",
    "* - open()\n",
    "  - [here](cont:fs:interface:operations)\n",
    "  - Creates a file descriptor for file I/O\n",
    "* - close()\n",
    "  - [here](cont:fs:interface:operations)\n",
    "  - Closes a file descriptor\n",
    "* - read()\n",
    "  - [here](cont:fs:interface:operations)\n",
    "  - Copies bytes from file descriptor to buffer\n",
    "* - write()\n",
    "  - [here](cont:fs:interface:operations)\n",
    "  - Copies bytes from buffer to file descriptor\n",
    "* - lseek()\n",
    "  - [here](cont:fs:interface:operations)\n",
    "  - Sets the I/O offset in an open file descriptor\n",
    "* - rename()\n",
    "  - [here](cont:fs:calls:naming)\n",
    "  - Renames a file/directory\n",
    "* - link()\n",
    "  - [here](cont:fs:calls:naming)\n",
    "  - Adds a hard link to a file\n",
    "* - unlink()\n",
    "  - [here](cont:fs:calls:naming)\n",
    "  - Decrement file reference count\n",
    "* - opendir(), readdir(), dirent()\n",
    "  - [here](cont:fs:calls:naming)\n",
    "  - Enumerate names in a directory\n",
    "* - stat(), fstat()\n",
    "  - [here](cont:fs:calls:naming)\n",
    "  - Returns file information\n",
    "* - opendir(), rmdir()\n",
    "  - [here](cont:fs:calls:naming)\n",
    "  - Create/remove empty directory\n",
    "```"
   ]
  },
  {
   "cell_type": "markdown",
   "metadata": {},
   "source": [
    "## Review Questions"
   ]
  },
  {
   "cell_type": "code",
   "execution_count": null,
   "metadata": {
    "tags": [
     "remove-input"
    ]
   },
   "outputs": [],
   "source": [
    "from jupyterquiz import display_quiz\n",
    "#display_quiz(\"../quizzes/fs.json\", colors=\"fdsp\")\n",
    "display_quiz(\"../quizzes/fs.json\")"
   ]
  },
  {
   "cell_type": "code",
   "execution_count": null,
   "metadata": {},
   "outputs": [],
   "source": []
  }
 ],
 "metadata": {
  "kernelspec": {
   "display_name": "Python 3 (ipykernel)",
   "language": "python",
   "name": "python3"
  },
  "language_info": {
   "codemirror_mode": {
    "name": "ipython",
    "version": 3
   },
   "file_extension": ".py",
   "mimetype": "text/x-python",
   "name": "python",
   "nbconvert_exporter": "python",
   "pygments_lexer": "ipython3",
   "version": "3.10.5"
  },
  "vscode": {
   "interpreter": {
    "hash": "98590ff4fe04c8543246b2a01debd3de3c5ca9b666f43f1fa87d5110c692004c"
   }
  }
 },
 "nbformat": 4,
 "nbformat_minor": 4
}
