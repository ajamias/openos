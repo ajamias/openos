{
 "cells": [
  {
   "cell_type": "markdown",
   "metadata": {},
   "source": [
    "# Review"
   ]
  },
  {
   "cell_type": "markdown",
   "metadata": {},
   "source": [
    "## Common Concurrency and Synchronization System Calls\n",
    "\n",
    "```{list-table}\n",
    ":header-rows: 1\n",
    "\n",
    "* - Function\n",
    "  - Reference\n",
    "  - Brief Description\n",
    "* - pipe()\n",
    "  - [here](cont:gs:abstractions:pipes)\n",
    "  - Creates a pipe for bidirectional interprocess communication\n",
    "* - mmap()\n",
    "  - [here](cont:sync:sharing:shared_mem)\n",
    "  - Allocates a page of virtual memory\n",
    "* - pthread_mutex_init()\n",
    "  - man 3 pthread_mutex_init\n",
    "  - Creates a mutex\n",
    "* - pthread_mutex_lock()\n",
    "  - [here](cont:sync:criticalsection:locks)\n",
    "  - Locks a mutex\n",
    "* - pthread_mutex_unlock()\n",
    "  - [here](cont:sync:criticalsection:locks)\n",
    "  - Unlocks a mutex\n",
    "* - pthread_mutex_destroy()\n",
    "  - man 3 pthread_mutex_destroy\n",
    "  - Frees resources allocated to a mutex\n",
    "* - sched_yield(), sleep()\n",
    "  - [here](cont:sync:ordering)\n",
    "  - Call scheduler to switch threads\n",
    "* - wakeup(), wakeup_all()\n",
    "  - [here](cont:sync:ordering)\n",
    "  - Moves threads from the wait queue to the ready queue\n",
    "* - sem_init()\n",
    "  - [here](cont:sync:ordering:sema)\n",
    "  - Initialize a semaphore\n",
    "* - sem_wait()\n",
    "  - [here](cont:sync:ordering:sema)\n",
    "  - \n",
    "* - sem_post()\n",
    "  - [here](cont:sync:ordering:sema)\n",
    "  - "
   ]
  },
  {
   "cell_type": "markdown",
   "metadata": {},
   "source": [
    "## Review Questions"
   ]
  },
  {
   "cell_type": "code",
   "execution_count": null,
   "metadata": {
    "tags": [
     "remove-input"
    ]
   },
   "outputs": [],
   "source": [
    "from jupyterquiz import display_quiz\n",
    "#display_quiz(\"../quizzes/sync.json\", colors=\"fdsp\")\n",
    "display_quiz(\"../quizzes/sync.json\")"
   ]
  }
 ],
 "metadata": {
  "kernelspec": {
   "display_name": "Python 3 (ipykernel)",
   "language": "python",
   "name": "python3"
  },
  "language_info": {
   "codemirror_mode": {
    "name": "ipython",
    "version": 3
   },
   "file_extension": ".py",
   "mimetype": "text/x-python",
   "name": "python",
   "nbconvert_exporter": "python",
   "pygments_lexer": "ipython3",
   "version": "3.10.5"
  },
  "vscode": {
   "interpreter": {
    "hash": "98590ff4fe04c8543246b2a01debd3de3c5ca9b666f43f1fa87d5110c692004c"
   }
  }
 },
 "nbformat": 4,
 "nbformat_minor": 4
}
