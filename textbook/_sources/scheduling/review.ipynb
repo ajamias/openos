{
 "cells": [
  {
   "cell_type": "markdown",
   "metadata": {},
   "source": [
    "# Review"
   ]
  },
  {
   "cell_type": "markdown",
   "metadata": {
    "jp-MarkdownHeadingCollapsed": true,
    "tags": []
   },
   "source": [
    "## Common Scheduling System Calls\n",
    "\n",
    "```{list-table}\n",
    ":header-rows: 1\n",
    "\n",
    "* - Function\n",
    "  - Reference\n",
    "  - Brief Description\n",
    "* - fork()\n",
    "  - [here](cont:gs:abstractions:process:syscalls)\n",
    "  - Clone the current process\n",
    "* - exit()\n",
    "  - [here](cont:gs:abstractions:process:syscalls)\n",
    "  - Terminate the calling process\n",
    "* - waitpid()\n",
    "  - [here](cont:gs:abstractions:process:syscalls)\n",
    "  - Wait for child process\n",
    "* - kill\n",
    "  - man 1 kill\n",
    "  - Terminate a specified process\n",
    "* - pthread_create()\n",
    "  - man 3 pthread_create\n",
    "  - Create a new thread in calling process\n",
    "* - pthread_self()\n",
    "  - man 3 pthread_self\n",
    "  - Return calling thread's ID\n",
    "* - pthread_join()\n",
    "  - man 3 pthread_join\n",
    "  - Wait for specified thread to finish\n",
    "* - pthread_exit()\n",
    "  - man 3 pthread_exit\n",
    "  - Terminate the calling thread\n",
    "* - pthread_kill()\n",
    "  - man 2 pthread_kill\n",
    "  - Send a signal to a thread\n",
    "```"
   ]
  },
  {
   "cell_type": "markdown",
   "metadata": {},
   "source": [
    "## Review Questions"
   ]
  },
  {
   "cell_type": "code",
   "execution_count": null,
   "metadata": {
    "tags": [
     "remove-input"
    ]
   },
   "outputs": [],
   "source": [
    "from jupyterquiz import display_quiz\n",
    "#display_quiz(\"../quizzes/scheduling.json\", colors=\"fdsp\")\n",
    "display_quiz(\"../quizzes/scheduling.json\")"
   ]
  },
  {
   "cell_type": "code",
   "execution_count": null,
   "metadata": {},
   "outputs": [],
   "source": []
  },
  {
   "cell_type": "code",
   "execution_count": null,
   "metadata": {},
   "outputs": [],
   "source": []
  }
 ],
 "metadata": {
  "kernelspec": {
   "display_name": "Python 3 (ipykernel)",
   "language": "python",
   "name": "python3"
  },
  "language_info": {
   "codemirror_mode": {
    "name": "ipython",
    "version": 3
   },
   "file_extension": ".py",
   "mimetype": "text/x-python",
   "name": "python",
   "nbconvert_exporter": "python",
   "pygments_lexer": "ipython3",
   "version": "3.10.5"
  },
  "vscode": {
   "interpreter": {
    "hash": "98590ff4fe04c8543246b2a01debd3de3c5ca9b666f43f1fa87d5110c692004c"
   }
  }
 },
 "nbformat": 4,
 "nbformat_minor": 4
}
